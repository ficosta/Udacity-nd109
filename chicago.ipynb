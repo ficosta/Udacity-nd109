{
 "cells": [
  {
   "cell_type": "code",
   "execution_count": 1,
   "metadata": {},
   "outputs": [
    {
     "name": "stdout",
     "output_type": "stream",
     "text": [
      "Reading the document...\n",
      "Ok!\n"
     ]
    }
   ],
   "source": [
    "# coding: utf-8\n",
    "\n",
    "# Here goes the imports\n",
    "import csv\n",
    "import matplotlib.pyplot as plt\n",
    "\n",
    "# Let's read the data as a list\n",
    "print(\"Reading the document...\")\n",
    "with open(\"chicago.csv\", \"r\") as file_read:\n",
    "    reader = csv.reader(file_read)\n",
    "    data_list = list(reader)\n",
    "print(\"Ok!\")"
   ]
  },
  {
   "cell_type": "code",
   "execution_count": 2,
   "metadata": {},
   "outputs": [
    {
     "name": "stdout",
     "output_type": "stream",
     "text": [
      "Number of rows:\n",
      "1551506\n"
     ]
    }
   ],
   "source": [
    "# Let's check how many rows do we have\n",
    "print(\"Number of rows:\")\n",
    "print(len(data_list))"
   ]
  },
  {
   "cell_type": "code",
   "execution_count": 3,
   "metadata": {},
   "outputs": [
    {
     "name": "stdout",
     "output_type": "stream",
     "text": [
      "Row 0: \n",
      "['Start Time', 'End Time', 'Trip Duration', 'Start Station', 'End Station', 'User Type', 'Gender', 'Birth Year']\n"
     ]
    }
   ],
   "source": [
    "# Printing the first row of data_list to check if it worked.\n",
    "print(\"Row 0: \")\n",
    "print(data_list[0])\n",
    "# It's the data header, so we can identify the columns."
   ]
  },
  {
   "cell_type": "code",
   "execution_count": 4,
   "metadata": {},
   "outputs": [
    {
     "name": "stdout",
     "output_type": "stream",
     "text": [
      "Row 1: \n",
      "['2017-01-01 00:00:36', '2017-01-01 00:06:32', '356', 'Canal St & Taylor St', 'Canal St & Monroe St (*)', 'Customer', '', '']\n"
     ]
    }
   ],
   "source": [
    "# Printing the second row of data_list, it should contain some data\n",
    "print(\"Row 1: \")\n",
    "print(data_list[1])"
   ]
  },
  {
   "cell_type": "code",
   "execution_count": 5,
   "metadata": {},
   "outputs": [
    {
     "name": "stdout",
     "output_type": "stream",
     "text": [
      "['Start Time', 'End Time', 'Trip Duration', 'Start Station', 'End Station', 'User Type', 'Gender', 'Birth Year']\n",
      "['2017-01-01 00:00:36', '2017-01-01 00:06:32', '356', 'Canal St & Taylor St', 'Canal St & Monroe St (*)', 'Customer', '', '']\n",
      "['2017-01-01 00:02:54', '2017-01-01 00:08:21', '327', 'Larrabee St & Menomonee St', 'Sheffield Ave & Kingsbury St', 'Subscriber', 'Male', '1984.0']\n",
      "['2017-01-01 00:06:06', '2017-01-01 00:18:31', '745', 'Orleans St & Chestnut St (NEXT Apts)', 'Ashland Ave & Blackhawk St', 'Subscriber', 'Male', '1985.0']\n",
      "['2017-01-01 00:07:28', '2017-01-01 00:12:51', '323', 'Franklin St & Monroe St', 'Clinton St & Tilden St', 'Subscriber', 'Male', '1990.0']\n",
      "['2017-01-01 00:07:57', '2017-01-01 00:20:53', '776', 'Broadway & Barry Ave', 'Sedgwick St & North Ave', 'Subscriber', 'Male', '1990.0']\n",
      "['2017-01-01 00:10:44', '2017-01-01 00:21:27', '643', 'State St & Kinzie St', 'Wells St & Polk St', 'Subscriber', 'Male', '1970.0']\n",
      "['2017-01-01 00:11:34', '2017-01-01 00:23:47', '733', 'Wabash Ave & Wacker Pl', 'Clinton St & Tilden St', 'Subscriber', 'Male', '1986.0']\n",
      "['2017-01-01 00:14:57', '2017-01-01 00:26:22', '685', 'Daley Center Plaza', 'Canal St & Monroe St (*)', 'Customer', '', '']\n",
      "['2017-01-01 00:15:03', '2017-01-01 00:26:28', '685', 'Daley Center Plaza', 'Canal St & Monroe St (*)', 'Customer', '', '']\n",
      "['2017-01-01 00:17:01', '2017-01-01 00:29:49', '768', 'Dayton St & North Ave', 'Ogden Ave & Chicago Ave', 'Customer', '', '']\n",
      "['2017-01-01 00:17:13', '2017-01-01 11:03:34', '38781', 'Wilton Ave & Diversey Pkwy', 'Halsted St & Wrightwood Ave', 'Subscriber', 'Female', '1988.0']\n",
      "['2017-01-01 00:18:28', '2017-01-01 00:31:05', '757', 'Canal St & Madison St', 'LaSalle St & Illinois St', 'Customer', '', '']\n",
      "['2017-01-01 00:18:50', '2017-01-01 00:21:47', '177', 'Theater on the Lake', 'Lakeview Ave & Fullerton Pkwy', 'Subscriber', 'Male', '1991.0']\n",
      "['2017-01-01 00:23:41', '2017-01-01 00:29:13', '332', 'Halsted St & Maxwell St', 'Halsted St & 18th St', 'Subscriber', 'Male', '1984.0']\n",
      "['2017-01-01 00:25:47', '2017-01-01 00:39:53', '846', 'Ravenswood Ave & Lawrence Ave', 'Clarendon Ave & Gordon Ter', 'Subscriber', 'Female', '1987.0']\n",
      "['2017-01-01 00:25:47', '2017-01-01 00:43:23', '1056', 'Clark St & Congress Pkwy', 'Wolcott Ave & Polk St', 'Subscriber', 'Male', '1984.0']\n",
      "['2017-01-01 00:26:21', '2017-01-01 00:39:40', '799', 'Ravenswood Ave & Lawrence Ave', 'Clarendon Ave & Gordon Ter', 'Subscriber', 'Male', '1987.0']\n",
      "['2017-01-01 00:27:21', '2017-01-01 00:42:59', '938', 'Millennium Park', 'Michigan Ave & 18th St', 'Subscriber', 'Male', '1991.0']\n",
      "['2017-01-01 00:27:28', '2017-01-01 00:42:44', '916', 'Millennium Park', 'Michigan Ave & 18th St', 'Subscriber', 'Female', '1990.0']\n"
     ]
    }
   ],
   "source": [
    "# TASK 1\n",
    "# TODO: Print the first 20 rows using a loop to identify the data.\n",
    "for ride in data_list[0:20]:\n",
    "    print(ride)\n",
    "# Let's change the data_list to remove the header from it.\n",
    "data_list = data_list[1:]"
   ]
  },
  {
   "cell_type": "code",
   "execution_count": 6,
   "metadata": {},
   "outputs": [
    {
     "name": "stdout",
     "output_type": "stream",
     "text": [
      "\n",
      "TASK 2: Printing the genders of the first 20 samples\n",
      "\n",
      "Male\n",
      "Male\n",
      "Male\n",
      "Male\n",
      "Male\n",
      "Male\n",
      "\n",
      "\n",
      "\n",
      "Female\n",
      "\n",
      "Male\n",
      "Male\n",
      "Female\n",
      "Male\n",
      "Male\n",
      "Male\n",
      "Female\n",
      "Male\n"
     ]
    }
   ],
   "source": [
    "# TASK 2\n",
    "# TODO: Print the `gender` of the first 20 rows\n",
    "print(\"\\nTASK 2: Printing the genders of the first 20 samples\")\n",
    "for ride in data_list[0:20]:\n",
    "    print(ride[6])\n",
    "\n",
    "# Cool! We can get the rows(samples) iterating with a for and the columns(features) by index.\n",
    "# But it's still hard to get a column in a list. Example: List with all genders"
   ]
  },
  {
   "cell_type": "code",
   "execution_count": 7,
   "metadata": {},
   "outputs": [
    {
     "name": "stdout",
     "output_type": "stream",
     "text": [
      "\n",
      "TASK 3: Printing the list of genders of the first 20 samples\n",
      "['', 'Male', 'Male', 'Male', 'Male', 'Male', 'Male', '', '', '', 'Female', '', 'Male', 'Male', 'Female', 'Male', 'Male', 'Male', 'Female', 'Male']\n"
     ]
    }
   ],
   "source": [
    "# TASK 3\n",
    "# TODO: Create a function to add the columns(features) of a list in another list in the same order\n",
    "def column_to_list(data, index):\n",
    "    column_list = []\n",
    "    # Tip: You can use a for to iterate over the samples, get the feature by index and append into a list\n",
    "    for feature in data:\n",
    "        column_list.append(feature[index])\n",
    "    return column_list\n",
    "\n",
    "\n",
    "# Let's check with the genders if it's working (only the first 20)\n",
    "print(\"\\nTASK 3: Printing the list of genders of the first 20 samples\")\n",
    "print(column_to_list(data_list, -2)[:20])\n",
    "\n",
    "# ------------ DO NOT CHANGE ANY CODE HERE ------------\n",
    "assert type(column_to_list(data_list, -2)) is list, \"TASK 3: Wrong type returned. It should return a list.\"\n",
    "assert len(column_to_list(data_list, -2)) == 1551505, \"TASK 3: Wrong lenght returned.\"\n",
    "assert column_to_list(data_list, -2)[0] == \"\" and column_to_list(data_list, -2)[1] == \"Male\", \"TASK 3: The list doesn't match.\"\n",
    "# -----------------------------------------------------"
   ]
  },
  {
   "cell_type": "code",
   "execution_count": 8,
   "metadata": {},
   "outputs": [
    {
     "name": "stdout",
     "output_type": "stream",
     "text": [
      "\n",
      "TASK 4: Printing how many males and females we found\n",
      "Male:  935854 \n",
      "Female:  298784\n"
     ]
    }
   ],
   "source": [
    "# Now we know how to access the features, let's count how many Males and Females the dataset have\n",
    "# TASK 4\n",
    "# TODO: Count each gender. You should not use a function to do that.\n",
    "male = column_to_list(data_list, -2).count('Male')\n",
    "female = column_to_list(data_list, -2).count('Female')\n",
    "\n",
    "\n",
    "# Checking the result\n",
    "print(\"\\nTASK 4: Printing how many males and females we found\")\n",
    "print(\"Male: \", male, \"\\nFemale: \", female)\n",
    "\n",
    "# ------------ DO NOT CHANGE ANY CODE HERE ------------\n",
    "assert male == 935854 and female == 298784, \"TASK 4: Count doesn't match.\"\n",
    "# -----------------------------------------------------"
   ]
  },
  {
   "cell_type": "code",
   "execution_count": 9,
   "metadata": {},
   "outputs": [
    {
     "name": "stdout",
     "output_type": "stream",
     "text": [
      "\n",
      "TASK 5: Printing result of count_gender\n",
      "[935854, 298784]\n"
     ]
    }
   ],
   "source": [
    "# Why don't we creeate a function to do that?\n",
    "# TASK 5\n",
    "# TODO: Create a function to count the genders. Return a list\n",
    "# Should return a list with [count_male, counf_female] (e.g., [10, 15] means 10 Males, 15 Females)\n",
    "def count_gender(data_list):\n",
    "    male = column_to_list(data_list, -2).count('Male')\n",
    "    female = column_to_list(data_list, -2).count('Female')\n",
    "    return [male, female]\n",
    "\n",
    "\n",
    "print(\"\\nTASK 5: Printing result of count_gender\")\n",
    "print(count_gender(data_list))\n",
    "\n",
    "# ------------ DO NOT CHANGE ANY CODE HERE ------------\n",
    "assert type(count_gender(data_list)) is list, \"TASK 5: Wrong type returned. It should return a list.\"\n",
    "assert len(count_gender(data_list)) == 2, \"TASK 5: Wrong lenght returned.\"\n",
    "assert count_gender(data_list)[0] == 935854 and count_gender(data_list)[1] == 298784, \"TASK 5: Returning wrong result!\"\n",
    "# -----------------------------------------------------"
   ]
  },
  {
   "cell_type": "code",
   "execution_count": 10,
   "metadata": {},
   "outputs": [
    {
     "name": "stdout",
     "output_type": "stream",
     "text": [
      "\n",
      "TASK 6: Which one is the most popular gender?\n",
      "Most popular gender is:  Male\n"
     ]
    }
   ],
   "source": [
    "# Now we can count the users, which gender use it the most?\n",
    "# TASK 6\n",
    "# TODO: Create a function to get the most popular gender and print the gender as string.\n",
    "# We expect to see \"Male\", \"Female\" or \"Equal\" as answer.\n",
    "def most_popular_gender(data_list):\n",
    "    male = column_to_list(data_list, -2).count('Male')\n",
    "    female = column_to_list(data_list, -2).count('Female')\n",
    "    if (male > female):\n",
    "        answer = \"Male\"\n",
    "    else:\n",
    "        answer = \"Female\"\n",
    "\n",
    "    return answer\n",
    "\n",
    "\n",
    "print(\"\\nTASK 6: Which one is the most popular gender?\")\n",
    "print(\"Most popular gender is: \", most_popular_gender(data_list))\n",
    "\n",
    "# ------------ DO NOT CHANGE ANY CODE HERE ------------\n",
    "assert type(most_popular_gender(data_list)) is str, \"TASK 6: Wrong type returned. It should return a string.\"\n",
    "assert most_popular_gender(data_list) == \"Male\", \"TASK 6: Returning wrong result!\"\n",
    "# -----------------------------------------------------"
   ]
  },
  {
   "cell_type": "code",
   "execution_count": 11,
   "metadata": {},
   "outputs": [
    {
     "data": {
      "image/png": "[encoded data removed]",
      "text/plain": [
       "<Figure size 432x288 with 1 Axes>"
      ]
     },
     "metadata": {
      "needs_background": "light"
     },
     "output_type": "display_data"
    }
   ],
   "source": [
    "# If it's everything running as expected, check this graph!\n",
    "gender_list = column_to_list(data_list, -2)\n",
    "types = [\"Male\", \"Female\"]\n",
    "quantity = count_gender(data_list)\n",
    "y_pos = list(range(len(types)))\n",
    "plt.bar(y_pos, quantity)\n",
    "plt.ylabel('Quantity')\n",
    "plt.xlabel('Gender')\n",
    "plt.xticks(y_pos, types)\n",
    "plt.title('Quantity by Gender')\n",
    "plt.show(block=True)"
   ]
  },
  {
   "cell_type": "code",
   "execution_count": 12,
   "metadata": {},
   "outputs": [
    {
     "ename": "NameError",
     "evalue": "name 'count_user' is not defined",
     "output_type": "error",
     "traceback": [
      "\u001b[0;31m---------------------------------------------------------------------------\u001b[0m",
      "\u001b[0;31mNameError\u001b[0m                                 Traceback (most recent call last)",
      "\u001b[0;32m<ipython-input-12-03ea9b34ca48>\u001b[0m in \u001b[0;36m<module>\u001b[0;34m\u001b[0m\n\u001b[1;32m      3\u001b[0m \u001b[0muser_list\u001b[0m \u001b[0;34m=\u001b[0m \u001b[0mcolumn_to_list\u001b[0m\u001b[0;34m(\u001b[0m\u001b[0mdata_list\u001b[0m\u001b[0;34m,\u001b[0m \u001b[0;36m5\u001b[0m\u001b[0;34m)\u001b[0m\u001b[0;34m\u001b[0m\u001b[0m\n\u001b[1;32m      4\u001b[0m \u001b[0;31m#types = [\"Male\", \"Female\"]\u001b[0m\u001b[0;34m\u001b[0m\u001b[0;34m\u001b[0m\u001b[0m\n\u001b[0;32m----> 5\u001b[0;31m \u001b[0mquantity\u001b[0m \u001b[0;34m=\u001b[0m \u001b[0mcount_user\u001b[0m\u001b[0;34m(\u001b[0m\u001b[0mdata_list\u001b[0m\u001b[0;34m)\u001b[0m\u001b[0;34m\u001b[0m\u001b[0m\n\u001b[0m\u001b[1;32m      6\u001b[0m \u001b[0my_pos\u001b[0m \u001b[0;34m=\u001b[0m \u001b[0mlist\u001b[0m\u001b[0;34m(\u001b[0m\u001b[0mrange\u001b[0m\u001b[0;34m(\u001b[0m\u001b[0mlen\u001b[0m\u001b[0;34m(\u001b[0m\u001b[0mtypes\u001b[0m\u001b[0;34m)\u001b[0m\u001b[0;34m)\u001b[0m\u001b[0;34m)\u001b[0m\u001b[0;34m\u001b[0m\u001b[0m\n\u001b[1;32m      7\u001b[0m \u001b[0mplt\u001b[0m\u001b[0;34m.\u001b[0m\u001b[0mbar\u001b[0m\u001b[0;34m(\u001b[0m\u001b[0my_pos\u001b[0m\u001b[0;34m,\u001b[0m \u001b[0mquantity\u001b[0m\u001b[0;34m)\u001b[0m\u001b[0;34m\u001b[0m\u001b[0m\n",
      "\u001b[0;31mNameError\u001b[0m: name 'count_user' is not defined"
     ]
    }
   ],
   "source": [
    "# TASK 7\n",
    "# TODO: Plot a similar graph for user_types. Make sure the legend is correct.\n",
    "user_list = column_to_list(data_list, 5)\n",
    "#types = [\"Male\", \"Female\"]\n",
    "quantity = count_user(data_list)\n",
    "y_pos = list(range(len(types)))\n",
    "plt.bar(y_pos, quantity)\n",
    "plt.ylabel('Quantity')\n",
    "plt.xlabel('User Type')\n",
    "plt.xticks(y_pos, types)\n",
    "plt.title('Quantity by User Type')\n",
    "plt.show(block=True)"
   ]
  },
  {
   "cell_type": "code",
   "execution_count": 13,
   "metadata": {},
   "outputs": [
    {
     "name": "stdout",
     "output_type": "stream",
     "text": [
      "\n",
      "TASK 8: Why the following condition is False?\n",
      "male + female == len(data_list): False\n",
      "Answer: Temos campos vazios.\n"
     ]
    }
   ],
   "source": [
    "# TASK 8\n",
    "# TODO: Answer the following question\n",
    "male, female = count_gender(data_list)\n",
    "print(\"\\nTASK 8: Why the following condition is False?\")\n",
    "print(\"male + female == len(data_list):\", male + female == len(data_list))\n",
    "answer = 'Temos campos vazios.'\n",
    "print(\"Answer:\", answer)\n",
    "\n",
    "# ------------ DO NOT CHANGE ANY CODE HERE ------------\n",
    "assert answer != \"Type your answer here.\", \"TASK 8: Write your own answer!\"\n",
    "# -----------------------------------------------------\n"
   ]
  },
  {
   "cell_type": "code",
   "execution_count": 15,
   "metadata": {},
   "outputs": [
    {
     "name": "stdout",
     "output_type": "stream",
     "text": [
      "1551505\n",
      "['361', '361', '361', '361', '361']\n",
      "\n",
      "TASK 9: Printing the min, max, mean and median\n",
      "Min:  60 Max:  86338 Mean:  939.7777590146342 Median:  361\n"
     ]
    },
    {
     "ename": "TypeError",
     "evalue": "type str doesn't define __round__ method",
     "output_type": "error",
     "traceback": [
      "\u001b[0;31m---------------------------------------------------------------------------\u001b[0m",
      "\u001b[0;31mTypeError\u001b[0m                                 Traceback (most recent call last)",
      "\u001b[0;32m<ipython-input-15-edef5d18bf0f>\u001b[0m in \u001b[0;36m<module>\u001b[0;34m\u001b[0m\n\u001b[1;32m     37\u001b[0m \u001b[0;32massert\u001b[0m \u001b[0mround\u001b[0m\u001b[0;34m(\u001b[0m\u001b[0mmax_trip\u001b[0m\u001b[0;34m)\u001b[0m \u001b[0;34m==\u001b[0m \u001b[0;36m86338\u001b[0m\u001b[0;34m,\u001b[0m \u001b[0;34m\"TASK 9: max_trip with wrong result!\"\u001b[0m\u001b[0;34m\u001b[0m\u001b[0m\n\u001b[1;32m     38\u001b[0m \u001b[0;32massert\u001b[0m \u001b[0mround\u001b[0m\u001b[0;34m(\u001b[0m\u001b[0mmean_trip\u001b[0m\u001b[0;34m)\u001b[0m \u001b[0;34m==\u001b[0m \u001b[0;36m940\u001b[0m\u001b[0;34m,\u001b[0m \u001b[0;34m\"TASK 9: mean_trip with wrong result!\"\u001b[0m\u001b[0;34m\u001b[0m\u001b[0m\n\u001b[0;32m---> 39\u001b[0;31m \u001b[0;32massert\u001b[0m \u001b[0mround\u001b[0m\u001b[0;34m(\u001b[0m\u001b[0mmedian_trip\u001b[0m\u001b[0;34m)\u001b[0m \u001b[0;34m==\u001b[0m \u001b[0;36m670\u001b[0m\u001b[0;34m,\u001b[0m \u001b[0;34m\"TASK 9: median_trip with wrong result!\"\u001b[0m\u001b[0;34m\u001b[0m\u001b[0m\n\u001b[0m\u001b[1;32m     40\u001b[0m \u001b[0;31m# -----------------------------------------------------\u001b[0m\u001b[0;34m\u001b[0m\u001b[0;34m\u001b[0m\u001b[0m\n",
      "\u001b[0;31mTypeError\u001b[0m: type str doesn't define __round__ method"
     ]
    }
   ],
   "source": [
    "# TASK 9\n",
    "# TODO: Find the Minimum, Maximum, Mean and Median trip duration.\n",
    "# You should not use ready functions to do that, like max() or min().\n",
    "trip_duration_list = column_to_list(data_list, 2)\n",
    "min_trip = 0.\n",
    "max_trip = 0.\n",
    "mean_trip = 0.\n",
    "median_trip = 0.\n",
    "\n",
    "all=0\n",
    "\n",
    "for trip in trip_duration_list:\n",
    "    trip = int(trip)\n",
    "    if trip < min_trip or min_trip == 0:\n",
    "        min_trip = trip\n",
    "    if trip > max_trip:\n",
    "        max_trip = trip\n",
    "    all += trip\n",
    "\n",
    "mean_trip = all / len(trip_duration_list)\n",
    "trip_duration_list.sort()\n",
    "#median_trip = trip_duration_list[int(len(trip_duration_list)/2)]\n",
    "#Aprender a calcular median\n",
    "num_lidos = len(trip_duration_list)\n",
    "if num_lidos % 2 == 1:\n",
    "    median_trip = trip_duration_list[num_lidos//2]\n",
    "    print()\n",
    "else:\n",
    "    median_trip = (trip_duration_list[num_lidos//2 -1]+trip_duration_list[num_lidos//2]) / 2\n",
    "\n",
    "print(len(trip_duration_list))\n",
    "print(trip_duration_list[775750:775755])\n",
    "print(\"\\nTASK 9: Printing the min, max, mean and median\")\n",
    "print(\"Min: \", min_trip, \"Max: \", max_trip, \"Mean: \", mean_trip, \"Median: \", median_trip)\n",
    "\n",
    "# ------------ DO NOT CHANGE ANY CODE HERE ------------\n",
    "assert round(min_trip) == 60, \"TASK 9: min_trip with wrong result!\"\n",
    "assert round(max_trip) == 86338, \"TASK 9: max_trip with wrong result!\"\n",
    "assert round(mean_trip) == 940, \"TASK 9: mean_trip with wrong result!\"\n",
    "assert round(median_trip) == 670, \"TASK 9: median_trip with wrong result!\"\n",
    "# -----------------------------------------------------"
   ]
  },
  {
   "cell_type": "code",
   "execution_count": null,
   "metadata": {},
   "outputs": [],
   "source": [
    "# TASK 10\n",
    "# Gender is easy because usually only have a few options. How about start_stations? How many options does it have?\n",
    "# TODO: Check types how many start_stations do we have using set()\n",
    "user_types = set()\n",
    "\n",
    "print(\"\\nTASK 10: Printing start stations:\")\n",
    "print(len(user_types))\n",
    "print(user_types)\n",
    "\n",
    "# ------------ DO NOT CHANGE ANY CODE HERE ------------\n",
    "assert len(user_types) == 582, \"TASK 10: Wrong len of start stations.\"\n",
    "# -----------------------------------------------------"
   ]
  },
  {
   "cell_type": "code",
   "execution_count": null,
   "metadata": {},
   "outputs": [],
   "source": [
    "# TASK 11\n",
    "# Go back and make sure you documented your functions. Explain the input, output and what it do. Example:\n",
    "# def new_function(param1: int, param2: str) -> list:\n",
    "\"\"\"\n",
    "      Example function with annotations.\n",
    "      Args:\n",
    "          param1: The first parameter.\n",
    "          param2: The second parameter.\n",
    "      Returns:\n",
    "          List of X values\n",
    "\n",
    "\"\"\""
   ]
  },
  {
   "cell_type": "code",
   "execution_count": null,
   "metadata": {},
   "outputs": [],
   "source": [
    "# TASK 12 - Challenge! (Optional)\n",
    "# TODO: Create a function to count user types without hardcoding the types\n",
    "# so we can use this function with a different kind of data.\n",
    "print(\"Will you face it?\")\n",
    "answer = \"no\"\n",
    "\n",
    "def count_items(column_list):\n",
    "    item_types = []\n",
    "    count_items = []\n",
    "    return item_types, count_items\n",
    "\n",
    "\n",
    "if answer == \"yes\":\n",
    "    # ------------ DO NOT CHANGE ANY CODE HERE ------------\n",
    "    column_list = column_to_list(data_list, -2)\n",
    "    types, counts = count_items(column_list)\n",
    "    print(\"\\nTASK 11: Printing results for count_items()\")\n",
    "    print(\"Types:\", types, \"Counts:\", counts)\n",
    "    assert len(types) == 3, \"TASK 11: There are 3 types of gender!\"\n",
    "    assert sum(counts) == 1551505, \"TASK 11: Returning wrong result!\"\n",
    "    # -----------------------------------------------------"
   ]
  },
  {
   "cell_type": "code",
   "execution_count": null,
   "metadata": {},
   "outputs": [],
   "source": []
  }
 ],
 "metadata": {
  "kernelspec": {
   "display_name": "Python 3",
   "language": "python",
   "name": "python3"
  },
  "language_info": {
   "codemirror_mode": {
    "name": "ipython",
    "version": 3
   },
   "file_extension": ".py",
   "mimetype": "text/x-python",
   "name": "python",
   "nbconvert_exporter": "python",
   "pygments_lexer": "ipython3",
   "version": "3.6.6"
  }
 },
 "nbformat": 4,
 "nbformat_minor": 2
}
